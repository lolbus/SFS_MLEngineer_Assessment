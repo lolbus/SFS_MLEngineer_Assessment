{
 "cells": [
  {
   "cell_type": "code",
   "execution_count": 2,
   "metadata": {},
   "outputs": [
    {
     "name": "stdout",
     "output_type": "stream",
     "text": [
      "{'predicted_price': 1886003.5399231664}\n"
     ]
    }
   ],
   "source": [
    "import requests\n",
    "# Sample data for the request\n",
    "data = {\n",
    "    \"market_segment\": \"OCR\", # Market Segment Classes: ['OCR'] \n",
    "    \"months_since_contract_date\": 10, \n",
    "    \"months_since_commence_date\": 123, # commence date is months passed from commencement till sep 2024.\n",
    "    \"area\": 165,\n",
    "    \"floor_range\": \"11-15\" # Floor Range Classes:  ['01-05' '06-10' '11-15' '16-20' '21-25']\n",
    "}\n",
    "\n",
    "response = requests.post('https://w48kbyj7rd.execute-api.us-west-2.amazonaws.com/prod/predict', json=data)\n",
    "# Print the response\n",
    "print(response.json())"
   ]
  }
 ],
 "metadata": {
  "kernelspec": {
   "display_name": "Python 3",
   "language": "python",
   "name": "python3"
  },
  "language_info": {
   "codemirror_mode": {
    "name": "ipython",
    "version": 3
   },
   "file_extension": ".py",
   "mimetype": "text/x-python",
   "name": "python",
   "nbconvert_exporter": "python",
   "pygments_lexer": "ipython3",
   "version": "3.12.5"
  }
 },
 "nbformat": 4,
 "nbformat_minor": 2
}
