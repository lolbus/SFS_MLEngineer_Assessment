{
 "cells": [
  {
   "cell_type": "markdown",
   "metadata": {},
   "source": [
    "Make sure docker is running"
   ]
  },
  {
   "cell_type": "code",
   "execution_count": 2,
   "metadata": {},
   "outputs": [
    {
     "name": "stdout",
     "output_type": "stream",
     "text": [
      "Docker version 27.1.1, build 6312585\n",
      "\n"
     ]
    }
   ],
   "source": [
    "import subprocess\n",
    "docker_desktop_path = \"C:\\\\Program Files\\\\Docker\\\\Docker\\\\resources\\\\bin\\\\docker.exe\"\n",
    "flask_code_dir = \"C:\\\\Users\\\\guang\\\\OneDrive\\\\Desktop\\\\Skillsfuture\\\\code\\\\flaskapp\"\n",
    "result = subprocess.run([docker_desktop_path, \"--version\"], capture_output=True, text=True)\n",
    "print(result.stdout)"
   ]
  },
  {
   "cell_type": "markdown",
   "metadata": {},
   "source": [
    "go to flask dir"
   ]
  },
  {
   "cell_type": "code",
   "execution_count": 13,
   "metadata": {},
   "outputs": [
    {
     "name": "stdout",
     "output_type": "stream",
     "text": [
      " Volume in drive C is BOOTCAMP\n",
      " Volume Serial Number is 0246-9FF7\n",
      "\n",
      " Directory of C:\\Users\\guang\\OneDrive\\Desktop\\Skillsfuture\\code\\flaskapp\n",
      "\n",
      "14/09/2024  08:11 pm    <DIR>          .\n",
      "14/09/2024  08:11 pm    <DIR>          ..\n",
      "14/09/2024  06:00 pm             1,653 best_condo_price_predictor.joblib\n",
      "14/09/2024  08:02 pm               556 Dockerfile\n",
      "14/09/2024  07:02 pm             1,764 flask_app.py\n",
      "14/09/2024  06:00 pm               567 le_floor_range.joblib\n",
      "14/09/2024  06:00 pm               528 le_market_segment.joblib\n",
      "14/09/2024  06:00 pm               138 normalization_params.joblib\n",
      "               6 File(s)          5,206 bytes\n",
      "               2 Dir(s)  31,621,627,904 bytes free\n",
      "\n"
     ]
    }
   ],
   "source": [
    "# Change to the flaskapp directory and list files\n",
    "result = subprocess.run(\"dir\", capture_output=True, text=True, cwd=r\"C:/Users/guang/OneDrive/Desktop/Skillsfuture/code/flaskapp\", shell=True)\n",
    "print(result.stdout)"
   ]
  },
  {
   "cell_type": "markdown",
   "metadata": {},
   "source": [
    "Remove old container and image, rebuild it"
   ]
  },
  {
   "cell_type": "code",
   "execution_count": 17,
   "metadata": {},
   "outputs": [
    {
     "name": "stdout",
     "output_type": "stream",
     "text": [
      "my_mlapi\n",
      "\n",
      "\n",
      "\n",
      "78871d5b32af50067eca7e4c93f40cec64480c204b7222f62a53d1b3a6ee1493\n",
      "\n"
     ]
    }
   ],
   "source": [
    "# Stop the existing container if it exists\n",
    "result = subprocess.run([docker_desktop_path, \"stop\", \"my_mlapi\"], capture_output=True, text=True)\n",
    "print(result.stdout)\n",
    "\n",
    "# Remove the existing container if it exists\n",
    "result = subprocess.run([docker_desktop_path, \"rm\", \"my_mlapi\"], capture_output=True, text=True)\n",
    "print(result.stdout)\n",
    "\n",
    "# Remove the existing image if it exists\n",
    "result = subprocess.run([docker_desktop_path, \"rmi\", \"my_mlapi\"], capture_output=True, text=True)\n",
    "print(result.stdout)\n",
    "\n",
    "# Build the Docker image\n",
    "result = subprocess.run([docker_desktop_path, \"build\", \"-t\", \"ml-api\", \".\"], capture_output=True, text=True)\n",
    "print(result.stdout)\n",
    "\n",
    "# Run the Docker container\n",
    "result = subprocess.run([docker_desktop_path, \"run\", \"-d\", \"-p\", \"5000:5000\", \"--name\", \"my_mlapi\", \"ml-api:latest\"], capture_output=True, text=True)\n",
    "print(result.stdout)\n"
   ]
  },
  {
   "cell_type": "markdown",
   "metadata": {},
   "source": [
    "Test the API on product server"
   ]
  },
  {
   "cell_type": "code",
   "execution_count": 15,
   "metadata": {},
   "outputs": [
    {
     "name": "stdout",
     "output_type": "stream",
     "text": [
      "{'predicted_price': 8598172.454542061}\n"
     ]
    }
   ],
   "source": [
    "import requests\n",
    "# Sample data for the request\n",
    "data = {\n",
    "    \"market_segment\": \"OCR\",\n",
    "    \"months_since_contract_date\": 55,\n",
    "    \"months_since_commence_date\": 120,\n",
    "    \"area\": 995,\n",
    "    \"floor_range\": \"11-15\"\n",
    "}\n",
    "\n",
    "# Make a POST request to the /predict endpoint\n",
    "response = requests.post('http://127.0.0.1:5000/predict', json=data)\n",
    "\n",
    "# Print the response\n",
    "print(response.json())"
   ]
  },
  {
   "cell_type": "code",
   "execution_count": null,
   "metadata": {},
   "outputs": [],
   "source": []
  }
 ],
 "metadata": {
  "kernelspec": {
   "display_name": "Python 3",
   "language": "python",
   "name": "python3"
  },
  "language_info": {
   "codemirror_mode": {
    "name": "ipython",
    "version": 3
   },
   "file_extension": ".py",
   "mimetype": "text/x-python",
   "name": "python",
   "nbconvert_exporter": "python",
   "pygments_lexer": "ipython3",
   "version": "3.12.5"
  }
 },
 "nbformat": 4,
 "nbformat_minor": 2
}
