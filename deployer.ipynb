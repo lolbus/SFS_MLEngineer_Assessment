{
 "cells": [
  {
   "cell_type": "markdown",
   "metadata": {},
   "source": [
    "Make sure docker is running"
   ]
  },
  {
   "cell_type": "code",
   "execution_count": 4,
   "metadata": {},
   "outputs": [
    {
     "name": "stdout",
     "output_type": "stream",
     "text": [
      "Docker version 27.1.1, build 6312585\n",
      "\n"
     ]
    }
   ],
   "source": [
    "import subprocess\n",
    "docker_desktop_path = \"C:\\\\Program Files\\\\Docker\\\\Docker\\\\resources\\\\bin\\\\docker.exe\"\n",
    "flask_code_dir = \"C:\\\\Users\\\\guang\\\\OneDrive\\\\Desktop\\\\Skillsfuture\\\\code\\\\flaskapp\"\n",
    "result = subprocess.run([docker_desktop_path, \"--version\"], capture_output=True, text=True)\n",
    "print(result.stdout)"
   ]
  },
  {
   "cell_type": "markdown",
   "metadata": {},
   "source": [
    "go to flask dir"
   ]
  },
  {
   "cell_type": "code",
   "execution_count": 5,
   "metadata": {},
   "outputs": [
    {
     "name": "stdout",
     "output_type": "stream",
     "text": [
      " Volume in drive C is BOOTCAMP\n",
      " Volume Serial Number is 0246-9FF7\n",
      "\n",
      " Directory of C:\\Users\\guang\\OneDrive\\Desktop\\Skillsfuture\\code\\flaskapp\n",
      "\n",
      "14/09/2024  11:51 pm    <DIR>          .\n",
      "14/09/2024  11:51 pm    <DIR>          ..\n",
      "15/09/2024  12:22 am    <DIR>          .elasticbeanstalk\n",
      "14/09/2024  11:51 pm               113 .gitignore\n",
      "14/09/2024  06:00 pm             1,653 best_condo_price_predictor.joblib\n",
      "14/09/2024  08:02 pm               556 Dockerfile\n",
      "15/09/2024  07:00 am             3,055 flask_app.py\n",
      "14/09/2024  06:00 pm               567 le_floor_range.joblib\n",
      "14/09/2024  06:00 pm               528 le_market_segment.joblib\n",
      "14/09/2024  06:00 pm               138 normalization_params.joblib\n",
      "               7 File(s)          6,610 bytes\n",
      "               3 Dir(s)  31,814,074,368 bytes free\n",
      "\n"
     ]
    }
   ],
   "source": [
    "# Change to the flaskapp directory and list files\n",
    "result = subprocess.run(\"dir\", capture_output=True, text=True, cwd=r\"C:/Users/guang/OneDrive/Desktop/Skillsfuture/code/flaskapp\", shell=True)\n",
    "print(result.stdout)"
   ]
  },
  {
   "cell_type": "markdown",
   "metadata": {},
   "source": [
    "Remove old container and image, rebuild it"
   ]
  },
  {
   "cell_type": "code",
   "execution_count": 30,
   "metadata": {},
   "outputs": [
    {
     "name": "stdout",
     "output_type": "stream",
     "text": [
      "my_mlapi\n",
      "\n",
      "my_mlapi\n",
      "\n",
      "Untagged: ml-api:latest\n",
      "Deleted: sha256:d540b96bb9958d477f1b0f60b9a3d16d5d536b6b3c3ec1390fa37ab04cb90bff\n",
      "\n"
     ]
    }
   ],
   "source": [
    "# Stop the existing container if it exists\n",
    "result = subprocess.run([docker_desktop_path, \"stop\", \"my_mlapi\"], capture_output=True, text=True)\n",
    "print(result.stdout)\n",
    "\n",
    "# Remove the existing container if it exists\n",
    "result = subprocess.run([docker_desktop_path, \"rm\", \"my_mlapi\"], capture_output=True, text=True)\n",
    "print(result.stdout)\n",
    "\n",
    "# Remove the existing image if it exists\n",
    "result = subprocess.run([docker_desktop_path, \"rmi\", \"ml-api\"], capture_output=True, text=True)\n",
    "print(result.stdout)\n",
    "\n",
    "# Build the Docker image based on updated flask app\n",
    "result = subprocess.run([docker_desktop_path, \"build\", \"-t\", \"ml-api\", \".\"], capture_output=True, text=True, cwd=\"C:/Users/guang/OneDrive/Desktop/Skillsfuture/code/flaskapp\")\n",
    "print(result.stdout)\n",
    "if result.stderr:\n",
    "    print(\"Error:\", result.stderr)\n",
    "# Run the Docker container\n",
    "result = subprocess.run([docker_desktop_path, \"run\", \"-d\", \"-p\", \"5000:5000\", \"--name\", \"my_mlapi\", \"ml-api:latest\"], capture_output=True, text=True)\n",
    "print(result.stdout)\n",
    "if result.stderr:\n",
    "    print(\"Error:\", result.stderr)\n"
   ]
  },
  {
   "cell_type": "markdown",
   "metadata": {},
   "source": [
    "Test the API on product server\n",
    "\n",
    "To modify sample data:  \n",
    "Market Segment Classes: ['OCR']  \n",
    "Floor Range Classes: ['01-05' '06-10' '11-15' '16-20']  "
   ]
  },
  {
   "cell_type": "code",
   "execution_count": 32,
   "metadata": {},
   "outputs": [
    {
     "name": "stdout",
     "output_type": "stream",
     "text": [
      "{'predicted_price': 4469640.756883434}\n"
     ]
    }
   ],
   "source": [
    "import requests\n",
    "# Sample data for the request\n",
    "data = {\n",
    "    \"market_segment\": \"OCR\",\n",
    "    \"months_since_contract_date\": 55,\n",
    "    \"months_since_commence_date\": 120,\n",
    "    \"area\": 425,\n",
    "    \"floor_range\": \"11-15\"\n",
    "}\n",
    "\n",
    "# Make a POST request to the /predict endpoint\n",
    "response = requests.post('http://127.0.0.1:5000/predict', json=data)\n",
    "\n",
    "# Print the response\n",
    "print(response.json())"
   ]
  },
  {
   "cell_type": "markdown",
   "metadata": {},
   "source": [
    "Test the throttling limit of 1 requests per second and 1 concurrent request \n"
   ]
  },
  {
   "cell_type": "code",
   "execution_count": 33,
   "metadata": {},
   "outputs": [
    {
     "name": "stdout",
     "output_type": "stream",
     "text": [
      "{'predicted_price': 3806921.0154515835}\n",
      "{'message': 'Too Many Requests'}\n",
      "{'message': 'Too Many Requests'}\n",
      "{'predicted_price': 3832182.4465891435}\n",
      "{'predicted_price': 3840602.923634996}\n",
      "{'message': 'Too Many Requests'}\n",
      "{'predicted_price': 3857443.8777267025}\n",
      "{'predicted_price': 3865864.354772556}\n",
      "{'message': 'Too Many Requests'}\n",
      "{'predicted_price': 3882705.308864263}\n",
      "Time taken: 6.251432418823242 seconds. total attempts: 6. \n",
      "max requests per second: 0.9597800308828146 attempts per sec\n"
     ]
    }
   ],
   "source": [
    "# Send inference request to cloud api\n",
    "\n",
    "import requests\n",
    "import time\n",
    "# Sample data for the request\n",
    "data = {\n",
    "    \"market_segment\": \"OCR\",\n",
    "    \"months_since_contract_date\": 55,\n",
    "    \"months_since_commence_date\": 120,\n",
    "    \"area\": 425,\n",
    "    \"floor_range\": \"11-15\"\n",
    "}\n",
    "\n",
    "# Make a POST request to the /predict endpoint\n",
    "# Test the throttling limit of 1 requests per second\n",
    "attempts_success = 0\n",
    "start = time.time()\n",
    "for i in range(10):\n",
    "    data['area'] = data['area'] + 1 # change data slightly each time to prevent caching\n",
    "    response = requests.post('https://w48kbyj7rd.execute-api.us-west-2.amazonaws.com/prod/predict', json=data)\n",
    "    # Print the response\n",
    "    print(response.json())\n",
    "    if 'predicted_price' in response.json().keys():\n",
    "        attempts_success += 1\n",
    "end = time.time()\n",
    "print(f\"Time taken: {end - start} seconds. total attempts: {attempts_success}. \\nmax requests per second: {attempts_success/(end-start)} attempts per sec\")\n",
    "\n",
    "\n"
   ]
  },
  {
   "cell_type": "markdown",
   "metadata": {},
   "source": [
    "Test the API on Cloud Server deployed on AWS Elastic Beanstalk\n",
    "\n",
    "To modify sample data:  \n",
    "Market Segment Classes: ['OCR']  \n",
    "Floor Range Classes:  ['01-05' '06-10' '11-15' '16-20' '21-25']"
   ]
  },
  {
   "cell_type": "code",
   "execution_count": 42,
   "metadata": {},
   "outputs": [
    {
     "name": "stdout",
     "output_type": "stream",
     "text": [
      "{'predicted_price': 1842838.7864513365}\n"
     ]
    }
   ],
   "source": [
    "import requests\n",
    "# Sample data for the request\n",
    "data = {\n",
    "    \"market_segment\": \"OCR\", # Market Segment Classes: ['OCR'] \n",
    "    \"months_since_contract_date\": 10, # Floor Range Classes: ['01-05' '06-10' '11-15' '16-20']  \n",
    "    \"months_since_commence_date\": 123, # \n",
    "    \"area\": 165,\n",
    "    \"floor_range\": \"01-05\" # Floor Range Classes:  ['01-05' '06-10' '11-15' '16-20' '21-25']\n",
    "}\n",
    "\n",
    "response = requests.post('https://w48kbyj7rd.execute-api.us-west-2.amazonaws.com/prod/predict', json=data)\n",
    "# Print the response\n",
    "print(response.json())"
   ]
  },
  {
   "cell_type": "code",
   "execution_count": null,
   "metadata": {},
   "outputs": [],
   "source": []
  }
 ],
 "metadata": {
  "kernelspec": {
   "display_name": "Python 3",
   "language": "python",
   "name": "python3"
  },
  "language_info": {
   "codemirror_mode": {
    "name": "ipython",
    "version": 3
   },
   "file_extension": ".py",
   "mimetype": "text/x-python",
   "name": "python",
   "nbconvert_exporter": "python",
   "pygments_lexer": "ipython3",
   "version": "3.12.5"
  }
 },
 "nbformat": 4,
 "nbformat_minor": 2
}
